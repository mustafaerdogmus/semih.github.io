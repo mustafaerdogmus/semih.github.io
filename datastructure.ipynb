{
  "nbformat": 4,
  "nbformat_minor": 0,
  "metadata": {
    "colab": {
      "name": "datastructure.ipynb",
      "version": "0.3.2",
      "provenance": [],
      "include_colab_link": true
    },
    "kernelspec": {
      "name": "python3",
      "display_name": "Python 3"
    }
  },
  "cells": [
    {
      "cell_type": "markdown",
      "metadata": {
        "id": "view-in-github",
        "colab_type": "text"
      },
      "source": [
        "<a href=\"https://colab.research.google.com/github/semih/semih.github.io/blob/master/datastructure.ipynb\" target=\"_parent\"><img src=\"https://colab.research.google.com/assets/colab-badge.svg\" alt=\"Open In Colab\"/></a>"
      ]
    },
    {
      "metadata": {
        "id": "5yhlXKBQHmsb",
        "colab_type": "text"
      },
      "cell_type": "markdown",
      "source": [
        "# ilk liste örneğimiz"
      ]
    },
    {
      "metadata": {
        "id": "v7MsaP57HHKI",
        "colab_type": "code",
        "outputId": "8d8836b4-683c-4367-f1b2-95bc2b90ef50",
        "colab": {
          "base_uri": "https://localhost:8080/",
          "height": 68
        }
      },
      "cell_type": "code",
      "source": [
        "isimler =[\"a\",\"b\",\"c\"]\n",
        "\n",
        "\n",
        "for i in range(0,len(isimler)):\n",
        "  print(isimler[i])"
      ],
      "execution_count": 0,
      "outputs": [
        {
          "output_type": "stream",
          "text": [
            "a\n",
            "b\n",
            "c\n"
          ],
          "name": "stdout"
        }
      ]
    },
    {
      "metadata": {
        "id": "MvjtrKt7Hue5",
        "colab_type": "text"
      },
      "cell_type": "markdown",
      "source": [
        "# ilk dictionary örneği"
      ]
    },
    {
      "metadata": {
        "id": "Zj8jiqEGHjyi",
        "colab_type": "code",
        "outputId": "c852f9f0-5b55-4aa0-c926-f77b895536bd",
        "colab": {
          "base_uri": "https://localhost:8080/",
          "height": 323
        }
      },
      "cell_type": "code",
      "source": [
        "telefon_rehberi =  {\"Mehmet\":530, \"Semih\":505}\n",
        "\n",
        "for key in telefon_rehberi.keys(): \n",
        "  print(key+\"'in telefonu: \" + str(telefon_rehberi[key]))\n",
        "  \n",
        "for value in telefon_rehberi.values(): \n",
        "  print(value)\n",
        "  \n",
        "for k,v in telefon_rehberi.items(): \n",
        "  print(k,v)\n",
        "  print(\"{}'in telefonu : {}\".format(k,v))\n",
        "  \n",
        "\n",
        "sayilar = {}\n",
        "n=10;\n",
        "for i in range(1,n+1): \n",
        "  sayilar[i] = i*i\n",
        "\n",
        "for k,v in sayilar.items(): \n",
        "  print(\"{}^2: {}\".format(k,v))"
      ],
      "execution_count": 0,
      "outputs": [
        {
          "output_type": "stream",
          "text": [
            "Mehmet'in telefonu: 530\n",
            "Semih'in telefonu: 505\n",
            "530\n",
            "505\n",
            "Mehmet 530\n",
            "Mehmet'in telefonu : 530\n",
            "Semih 505\n",
            "Semih'in telefonu : 505\n",
            "1^2: 1\n",
            "2^2: 4\n",
            "3^2: 9\n",
            "4^2: 16\n",
            "5^2: 25\n",
            "6^2: 36\n",
            "7^2: 49\n",
            "8^2: 64\n",
            "9^2: 81\n",
            "10^2: 100\n"
          ],
          "name": "stdout"
        }
      ]
    }
  ]
}